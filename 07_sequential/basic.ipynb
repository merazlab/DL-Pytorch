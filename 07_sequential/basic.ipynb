{
 "cells": [
  {
   "cell_type": "markdown",
   "metadata": {},
   "source": [
    "## Building RNNs is Fun with PyTorch and Google Colab\n",
    "\n",
    "https://medium.com/dair-ai/building-rnns-is-fun-with-pytorch-and-google-colab-3903ea9a3a79"
   ]
  },
  {
   "cell_type": "code",
   "execution_count": 1,
   "metadata": {},
   "outputs": [],
   "source": [
    "import torch\n",
    "import torch.nn as nn\n",
    "import torch.nn.functional as F\n",
    "import os\n",
    "import numpy as np"
   ]
  },
  {
   "cell_type": "code",
   "execution_count": 2,
   "metadata": {},
   "outputs": [],
   "source": [
    "class SingleRNN(nn.Module):\n",
    "    def __init__(self, n_inputs, n_neurons):\n",
    "        super(SingleRNN, self).__init__()\n",
    "        \n",
    "        self.Wx = torch.randn(n_inputs, n_neurons) # 4 X 1\n",
    "        self.Wy = torch.randn(n_neurons, n_neurons) # 1 X 1\n",
    "        \n",
    "        self.b = torch.zeros(1, n_neurons) # 1 X 4\n",
    "    \n",
    "    def forward(self, X0, X1):\n",
    "        self.Y0 = torch.tanh(torch.mm(X0, self.Wx) + self.b) # 4 X 1\n",
    "        \n",
    "        self.Y1 = torch.tanh(torch.mm(self.Y0, self.Wy) + torch.mm(X1, self.Wx) + self.b) # 4 X 1\n",
    "        \n",
    "        return self.Y0, self.Y1"
   ]
  },
  {
   "cell_type": "code",
   "execution_count": 3,
   "metadata": {},
   "outputs": [],
   "source": [
    "N_INPUT = 4\n",
    "N_NEURONS = 1\n",
    "\n",
    "X0_batch = torch.tensor([[0,1,2,0], [3,4,5,0], \n",
    "                         [6,7,8,0], [9,0,1,0]],\n",
    "                        dtype = torch.float) #t=0 => 4 X 4\n",
    "\n",
    "X1_batch = torch.tensor([[9,8,7,0], [0,0,0,0], \n",
    "                         [6,5,4,0], [3,2,1,0]],\n",
    "                        dtype = torch.float) #t=1 => 4 X 4"
   ]
  },
  {
   "cell_type": "code",
   "execution_count": 4,
   "metadata": {},
   "outputs": [
    {
     "data": {
      "text/plain": [
       "torch.Size([4, 4])"
      ]
     },
     "execution_count": 4,
     "metadata": {},
     "output_type": "execute_result"
    }
   ],
   "source": [
    "X0_batch.shape"
   ]
  },
  {
   "cell_type": "code",
   "execution_count": 5,
   "metadata": {},
   "outputs": [],
   "source": [
    "model = SingleRNN(N_INPUT, N_NEURONS)"
   ]
  },
  {
   "cell_type": "code",
   "execution_count": 7,
   "metadata": {},
   "outputs": [],
   "source": [
    "Y0_val, Y1_val = model(X0_batch, X1_batch)"
   ]
  },
  {
   "cell_type": "code",
   "execution_count": 9,
   "metadata": {},
   "outputs": [
    {
     "data": {
      "text/plain": [
       "tensor([[0.2961],\n",
       "        [0.1623],\n",
       "        [0.0224],\n",
       "        [0.9993]])"
      ]
     },
     "execution_count": 9,
     "metadata": {},
     "output_type": "execute_result"
    }
   ],
   "source": [
    "Y0_val"
   ]
  },
  {
   "cell_type": "code",
   "execution_count": 10,
   "metadata": {},
   "outputs": [
    {
     "data": {
      "text/plain": [
       "tensor([[-0.8415],\n",
       "        [-0.2659],\n",
       "        [-0.5550],\n",
       "        [-0.9718]])"
      ]
     },
     "execution_count": 10,
     "metadata": {},
     "output_type": "execute_result"
    }
   ],
   "source": [
    "Y1_val"
   ]
  },
  {
   "cell_type": "markdown",
   "metadata": {},
   "source": [
    "Now i change the neurons and input"
   ]
  },
  {
   "cell_type": "code",
   "execution_count": 17,
   "metadata": {},
   "outputs": [],
   "source": [
    "class BasicRNN(nn.Module):\n",
    "    def __init__(self, n_inputs, n_neurons):\n",
    "        super(BasicRNN, self).__init__()\n",
    "        \n",
    "        self.Wx = torch.randn(n_inputs, n_neurons) # n_inputs X n_neurons\n",
    "        self.Wy = torch.randn(n_neurons, n_neurons) # n_neurons X n_neurons\n",
    "        \n",
    "        self.b = torch.zeros(1, n_neurons) # 1 X n_neurons\n",
    "    \n",
    "    def forward(self, X0, X1):\n",
    "        self.Y0 = torch.tanh(torch.mm(X0, self.Wx) + self.b) # batch_size X n_neurons\n",
    "        \n",
    "        self.Y1 = torch.tanh(torch.mm(self.Y0, self.Wy) +\n",
    "                            torch.mm(X1, self.Wx) + self.b) # batch_size X n_neurons\n",
    "        \n",
    "        return self.Y0, self.Y1"
   ]
  },
  {
   "cell_type": "code",
   "execution_count": 18,
   "metadata": {},
   "outputs": [],
   "source": [
    "N_INPUT = 3 # number of features in input\n",
    "N_NEURONS = 5 # number of units in layer\n",
    "\n",
    "X0_batch = torch.tensor([[0,1,2], [3,4,5], \n",
    "                         [6,7,8], [9,0,1]],\n",
    "                        dtype = torch.float) #t=0 => 4 X 3\n",
    "\n",
    "X1_batch = torch.tensor([[9,8,7], [0,0,0], \n",
    "                         [6,5,4], [3,2,1]],\n",
    "                        dtype = torch.float) #t=1 => 4 X 3\n",
    "\n",
    "model = BasicRNN(N_INPUT, N_NEURONS)\n",
    "\n",
    "Y0_val, Y1_val = model(X0_batch, X1_batch)"
   ]
  },
  {
   "cell_type": "code",
   "execution_count": 19,
   "metadata": {},
   "outputs": [
    {
     "name": "stdout",
     "output_type": "stream",
     "text": [
      "tensor([[-0.9506,  0.9967,  0.1502, -1.0000, -0.9716],\n",
      "        [-0.9935,  1.0000, -0.9987, -1.0000, -0.9980],\n",
      "        [-0.9992,  1.0000, -1.0000, -1.0000, -0.9999],\n",
      "        [ 1.0000, -0.9766, -1.0000,  1.0000, -0.9995]])\n",
      "tensor([[-0.9864,  1.0000, -1.0000, -1.0000,  0.9615],\n",
      "        [-0.9279, -0.2538, -0.8387,  0.8645,  1.0000],\n",
      "        [-0.9527,  1.0000, -1.0000, -1.0000,  0.9999],\n",
      "        [-0.9327,  0.5439, -0.4183, -0.9964,  0.9845]])\n"
     ]
    }
   ],
   "source": [
    "print(Y0_val)\n",
    "print(Y1_val)"
   ]
  },
  {
   "cell_type": "markdown",
   "metadata": {},
   "source": [
    "## Pytorch RNN CELL\n"
   ]
  },
  {
   "cell_type": "code",
   "execution_count": 20,
   "metadata": {},
   "outputs": [
    {
     "name": "stdout",
     "output_type": "stream",
     "text": [
      "[tensor([[-0.5081,  0.5528, -0.2951,  0.2812, -0.6928],\n",
      "        [-0.9928,  0.9994, -0.4619, -0.6464, -0.9931],\n",
      "        [-0.9922,  1.0000,  0.7684, -0.8399, -0.9998],\n",
      "        [-0.9995,  0.9998,  0.0254, -0.7574, -0.2818]],\n",
      "       grad_fn=<TanhBackward0>), tensor([[-0.9408,  1.0000,  0.8080,  0.1929, -0.9999],\n",
      "        [ 0.3481,  0.2554,  0.7809,  0.3738,  0.2357],\n",
      "        [-0.9017,  0.9998,  0.9392, -0.2323, -0.9909],\n",
      "        [-0.4607,  0.9650,  0.9392,  0.0098, -0.6245]],\n",
      "       grad_fn=<TanhBackward0>)]\n"
     ]
    }
   ],
   "source": [
    "rnn = nn.RNNCell(3, 5) # n_input X n_neurons\n",
    "\n",
    "X_batch = torch.tensor([[[0,1,2], [3,4,5], \n",
    "                         [6,7,8], [9,0,1]],\n",
    "                        [[9,8,7], [0,0,0], \n",
    "                         [6,5,4], [3,2,1]]\n",
    "                       ], dtype = torch.float) # X0 and X1\n",
    "\n",
    "hx = torch.randn(4, 5) # m X n_neurons\n",
    "output = []\n",
    "\n",
    "# for each time step\n",
    "for i in range(2):\n",
    "    hx = rnn(X_batch[i], hx)\n",
    "    output.append(hx)\n",
    "\n",
    "print(output)"
   ]
  },
  {
   "cell_type": "markdown",
   "metadata": {},
   "source": [
    "Now build Pytorch RNN GRAPH"
   ]
  },
  {
   "cell_type": "code",
   "execution_count": null,
   "metadata": {},
   "outputs": [],
   "source": [
    "class MY_RNN(nn.Module):\n",
    "    def __init__(self, input, neurons):\n",
    "        super(MY_RNN, self).__init__()\n",
    "        \n",
    "        "
   ]
  }
 ],
 "metadata": {
  "interpreter": {
   "hash": "e5a48705aae4cbee1d0d0af0c16774e9d7862f963a7869effd5ba656052a0e69"
  },
  "kernelspec": {
   "display_name": "Python 3.8.12 ('p38t111')",
   "language": "python",
   "name": "python3"
  },
  "language_info": {
   "codemirror_mode": {
    "name": "ipython",
    "version": 3
   },
   "file_extension": ".py",
   "mimetype": "text/x-python",
   "name": "python",
   "nbconvert_exporter": "python",
   "pygments_lexer": "ipython3",
   "version": "3.8.12"
  },
  "orig_nbformat": 4
 },
 "nbformat": 4,
 "nbformat_minor": 2
}
